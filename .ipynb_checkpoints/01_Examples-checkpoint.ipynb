{
 "cells": [
  {
   "cell_type": "code",
   "execution_count": 1,
   "metadata": {},
   "outputs": [
    {
     "name": "stdout",
     "output_type": "stream",
     "text": [
      "Load forecast '.zip' files download completed up to 3/2020\n"
     ]
    }
   ],
   "source": [
    "from download_nyiso_data import*\n",
    "\n",
    "# Downloading raw load forecast and actual load data from NYISO website\n",
    "download_nyiso_data(1999, \"00_NYISO_Data\", print_info = True)"
   ]
  }
 ],
 "metadata": {
  "kernelspec": {
   "display_name": "Python 3",
   "language": "python",
   "name": "python3"
  },
  "language_info": {
   "codemirror_mode": {
    "name": "ipython",
    "version": 3
   },
   "file_extension": ".py",
   "mimetype": "text/x-python",
   "name": "python",
   "nbconvert_exporter": "python",
   "pygments_lexer": "ipython3",
   "version": "3.6.9"
  }
 },
 "nbformat": 4,
 "nbformat_minor": 4
}
